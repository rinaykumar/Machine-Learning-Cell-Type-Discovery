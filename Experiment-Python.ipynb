{
 "cells": [
  {
   "cell_type": "markdown",
   "id": "christian-dependence",
   "metadata": {},
   "source": [
    "<h2>Import Libraries</h2>"
   ]
  },
  {
   "cell_type": "code",
   "execution_count": 1,
   "id": "seventh-assessment",
   "metadata": {},
   "outputs": [],
   "source": [
    "from sklearn.ensemble import RandomForestClassifier\n",
    "import pandas as pd\n",
    "import numpy as np"
   ]
  },
  {
   "cell_type": "markdown",
   "id": "casual-heart",
   "metadata": {},
   "source": [
    "<h2>Get Data</h2>"
   ]
  },
  {
   "cell_type": "code",
   "execution_count": 2,
   "id": "downtown-forum",
   "metadata": {},
   "outputs": [],
   "source": [
    "df = pd.read_csv('e1 positive.csv')"
   ]
  },
  {
   "cell_type": "code",
   "execution_count": 6,
   "id": "subtle-syndicate",
   "metadata": {},
   "outputs": [
    {
     "data": {
      "text/html": [
       "<div>\n",
       "<style scoped>\n",
       "    .dataframe tbody tr th:only-of-type {\n",
       "        vertical-align: middle;\n",
       "    }\n",
       "\n",
       "    .dataframe tbody tr th {\n",
       "        vertical-align: top;\n",
       "    }\n",
       "\n",
       "    .dataframe thead th {\n",
       "        text-align: right;\n",
       "    }\n",
       "</style>\n",
       "<table border=\"1\" class=\"dataframe\">\n",
       "  <thead>\n",
       "    <tr style=\"text-align: right;\">\n",
       "      <th></th>\n",
       "      <th>GABRG2</th>\n",
       "      <th>CELF4</th>\n",
       "      <th>SRRM4</th>\n",
       "      <th>SLC1A3</th>\n",
       "      <th>ATP1A3</th>\n",
       "      <th>RBFOX3</th>\n",
       "      <th>GABRA4</th>\n",
       "      <th>NHSL1</th>\n",
       "      <th>GRAMD3</th>\n",
       "      <th>SEZ6L2</th>\n",
       "      <th>...</th>\n",
       "      <th>FERMT1</th>\n",
       "      <th>CSPG4</th>\n",
       "      <th>GJA1</th>\n",
       "      <th>LAMA1</th>\n",
       "      <th>YAP1</th>\n",
       "      <th>LINC00639.2</th>\n",
       "      <th>SMOC1</th>\n",
       "      <th>LINC00498</th>\n",
       "      <th>GFRA1</th>\n",
       "      <th>Label</th>\n",
       "    </tr>\n",
       "  </thead>\n",
       "  <tbody>\n",
       "    <tr>\n",
       "      <th>0</th>\n",
       "      <td>35.038262</td>\n",
       "      <td>161.176004</td>\n",
       "      <td>68.074337</td>\n",
       "      <td>58.063405</td>\n",
       "      <td>20.021864</td>\n",
       "      <td>269.294069</td>\n",
       "      <td>188.205520</td>\n",
       "      <td>0.000000</td>\n",
       "      <td>0.0</td>\n",
       "      <td>0.000000</td>\n",
       "      <td>...</td>\n",
       "      <td>0.0</td>\n",
       "      <td>0.0</td>\n",
       "      <td>0.0</td>\n",
       "      <td>0.0</td>\n",
       "      <td>0.0</td>\n",
       "      <td>0.000000</td>\n",
       "      <td>1.001093</td>\n",
       "      <td>0.0</td>\n",
       "      <td>0.0</td>\n",
       "      <td>1</td>\n",
       "    </tr>\n",
       "    <tr>\n",
       "      <th>1</th>\n",
       "      <td>95.324867</td>\n",
       "      <td>75.256474</td>\n",
       "      <td>87.297510</td>\n",
       "      <td>0.000000</td>\n",
       "      <td>18.061554</td>\n",
       "      <td>342.166102</td>\n",
       "      <td>683.328784</td>\n",
       "      <td>0.000000</td>\n",
       "      <td>0.0</td>\n",
       "      <td>1.003420</td>\n",
       "      <td>...</td>\n",
       "      <td>0.0</td>\n",
       "      <td>0.0</td>\n",
       "      <td>0.0</td>\n",
       "      <td>0.0</td>\n",
       "      <td>0.0</td>\n",
       "      <td>0.000000</td>\n",
       "      <td>1.003420</td>\n",
       "      <td>0.0</td>\n",
       "      <td>0.0</td>\n",
       "      <td>1</td>\n",
       "    </tr>\n",
       "    <tr>\n",
       "      <th>2</th>\n",
       "      <td>220.143867</td>\n",
       "      <td>187.976727</td>\n",
       "      <td>42.219372</td>\n",
       "      <td>106.553653</td>\n",
       "      <td>0.000000</td>\n",
       "      <td>187.976727</td>\n",
       "      <td>299.556496</td>\n",
       "      <td>0.000000</td>\n",
       "      <td>0.0</td>\n",
       "      <td>0.000000</td>\n",
       "      <td>...</td>\n",
       "      <td>0.0</td>\n",
       "      <td>0.0</td>\n",
       "      <td>0.0</td>\n",
       "      <td>0.0</td>\n",
       "      <td>0.0</td>\n",
       "      <td>7.036562</td>\n",
       "      <td>0.000000</td>\n",
       "      <td>0.0</td>\n",
       "      <td>0.0</td>\n",
       "      <td>1</td>\n",
       "    </tr>\n",
       "    <tr>\n",
       "      <th>3</th>\n",
       "      <td>166.010840</td>\n",
       "      <td>26.159284</td>\n",
       "      <td>61.373704</td>\n",
       "      <td>0.000000</td>\n",
       "      <td>30.183789</td>\n",
       "      <td>254.549955</td>\n",
       "      <td>446.720079</td>\n",
       "      <td>0.000000</td>\n",
       "      <td>0.0</td>\n",
       "      <td>25.153158</td>\n",
       "      <td>...</td>\n",
       "      <td>0.0</td>\n",
       "      <td>0.0</td>\n",
       "      <td>0.0</td>\n",
       "      <td>0.0</td>\n",
       "      <td>0.0</td>\n",
       "      <td>0.000000</td>\n",
       "      <td>1.006126</td>\n",
       "      <td>0.0</td>\n",
       "      <td>0.0</td>\n",
       "      <td>1</td>\n",
       "    </tr>\n",
       "    <tr>\n",
       "      <th>4</th>\n",
       "      <td>188.426220</td>\n",
       "      <td>71.160966</td>\n",
       "      <td>119.269788</td>\n",
       "      <td>57.129226</td>\n",
       "      <td>16.036274</td>\n",
       "      <td>265.600789</td>\n",
       "      <td>287.650666</td>\n",
       "      <td>24.054411</td>\n",
       "      <td>0.0</td>\n",
       "      <td>1.002267</td>\n",
       "      <td>...</td>\n",
       "      <td>0.0</td>\n",
       "      <td>0.0</td>\n",
       "      <td>0.0</td>\n",
       "      <td>0.0</td>\n",
       "      <td>0.0</td>\n",
       "      <td>0.000000</td>\n",
       "      <td>0.000000</td>\n",
       "      <td>0.0</td>\n",
       "      <td>0.0</td>\n",
       "      <td>1</td>\n",
       "    </tr>\n",
       "  </tbody>\n",
       "</table>\n",
       "<p>5 rows × 609 columns</p>\n",
       "</div>"
      ],
      "text/plain": [
       "       GABRG2       CELF4       SRRM4      SLC1A3     ATP1A3      RBFOX3  \\\n",
       "0   35.038262  161.176004   68.074337   58.063405  20.021864  269.294069   \n",
       "1   95.324867   75.256474   87.297510    0.000000  18.061554  342.166102   \n",
       "2  220.143867  187.976727   42.219372  106.553653   0.000000  187.976727   \n",
       "3  166.010840   26.159284   61.373704    0.000000  30.183789  254.549955   \n",
       "4  188.426220   71.160966  119.269788   57.129226  16.036274  265.600789   \n",
       "\n",
       "       GABRA4      NHSL1  GRAMD3     SEZ6L2  ...  FERMT1  CSPG4  GJA1  LAMA1  \\\n",
       "0  188.205520   0.000000     0.0   0.000000  ...     0.0    0.0   0.0    0.0   \n",
       "1  683.328784   0.000000     0.0   1.003420  ...     0.0    0.0   0.0    0.0   \n",
       "2  299.556496   0.000000     0.0   0.000000  ...     0.0    0.0   0.0    0.0   \n",
       "3  446.720079   0.000000     0.0  25.153158  ...     0.0    0.0   0.0    0.0   \n",
       "4  287.650666  24.054411     0.0   1.002267  ...     0.0    0.0   0.0    0.0   \n",
       "\n",
       "   YAP1  LINC00639.2     SMOC1  LINC00498  GFRA1  Label  \n",
       "0   0.0     0.000000  1.001093        0.0    0.0      1  \n",
       "1   0.0     0.000000  1.003420        0.0    0.0      1  \n",
       "2   0.0     7.036562  0.000000        0.0    0.0      1  \n",
       "3   0.0     0.000000  1.006126        0.0    0.0      1  \n",
       "4   0.0     0.000000  0.000000        0.0    0.0      1  \n",
       "\n",
       "[5 rows x 609 columns]"
      ]
     },
     "execution_count": 6,
     "metadata": {},
     "output_type": "execute_result"
    }
   ],
   "source": [
    "df.head()"
   ]
  },
  {
   "cell_type": "markdown",
   "id": "improved-forth",
   "metadata": {},
   "source": [
    "<h2>Check Data</h2>"
   ]
  },
  {
   "cell_type": "code",
   "execution_count": 3,
   "id": "radical-bankruptcy",
   "metadata": {},
   "outputs": [],
   "source": [
    "samples, columns = (df.shape)"
   ]
  },
  {
   "cell_type": "code",
   "execution_count": 4,
   "id": "manual-margin",
   "metadata": {},
   "outputs": [
    {
     "data": {
      "text/plain": [
       "871"
      ]
     },
     "execution_count": 4,
     "metadata": {},
     "output_type": "execute_result"
    }
   ],
   "source": [
    "samples"
   ]
  },
  {
   "cell_type": "code",
   "execution_count": 5,
   "id": "paperback-liver",
   "metadata": {},
   "outputs": [
    {
     "data": {
      "text/plain": [
       "609"
      ]
     },
     "execution_count": 5,
     "metadata": {},
     "output_type": "execute_result"
    }
   ],
   "source": [
    "columns"
   ]
  },
  {
   "cell_type": "code",
   "execution_count": 6,
   "id": "therapeutic-graduation",
   "metadata": {},
   "outputs": [],
   "source": [
    "negative, positive = df['Label'].value_counts(0,1)"
   ]
  },
  {
   "cell_type": "code",
   "execution_count": 7,
   "id": "fifth-theorem",
   "metadata": {},
   "outputs": [
    {
     "data": {
      "text/plain": [
       "299"
      ]
     },
     "execution_count": 7,
     "metadata": {},
     "output_type": "execute_result"
    }
   ],
   "source": [
    "positive"
   ]
  },
  {
   "cell_type": "code",
   "execution_count": 8,
   "id": "limited-couple",
   "metadata": {},
   "outputs": [
    {
     "data": {
      "text/plain": [
       "572"
      ]
     },
     "execution_count": 8,
     "metadata": {},
     "output_type": "execute_result"
    }
   ],
   "source": [
    "negative"
   ]
  },
  {
   "cell_type": "markdown",
   "id": "anticipated-australian",
   "metadata": {},
   "source": [
    "<h2>Build Model</h2>"
   ]
  },
  {
   "cell_type": "code",
   "execution_count": 11,
   "id": "alternate-shoulder",
   "metadata": {},
   "outputs": [],
   "source": [
    "model = RandomForestClassifier(n_estimators=500, max_features=5, random_state=0, oob_score=True)"
   ]
  },
  {
   "cell_type": "code",
   "execution_count": 14,
   "id": "cordless-addiction",
   "metadata": {},
   "outputs": [
    {
     "data": {
      "text/plain": [
       "RandomForestClassifier(max_features=5, n_estimators=500, oob_score=True,\n",
       "                       random_state=0)"
      ]
     },
     "execution_count": 14,
     "metadata": {},
     "output_type": "execute_result"
    }
   ],
   "source": [
    "model.fit(df.iloc[:,:-1], df['Label'])"
   ]
  },
  {
   "cell_type": "markdown",
   "id": "cloudy-packing",
   "metadata": {},
   "source": [
    "<h2>Confusion Matrix</h2>"
   ]
  },
  {
   "cell_type": "code",
   "execution_count": 15,
   "id": "intended-identifier",
   "metadata": {},
   "outputs": [],
   "source": [
    "from sklearn.metrics import confusion_matrix, plot_confusion_matrix\n",
    "import matplotlib.pyplot as plt"
   ]
  },
  {
   "cell_type": "code",
   "execution_count": 24,
   "id": "virgin-distance",
   "metadata": {},
   "outputs": [],
   "source": [
    "def confusion(model, df):\n",
    "    plot_confusion_matrix(model, df.iloc[:,:-1], df['Label'].values)\n",
    "    M = confusion_matrix(df['Label'].values, model.predict(df.iloc[:,:-1]))\n",
    "    return M"
   ]
  },
  {
   "cell_type": "code",
   "execution_count": 25,
   "id": "nonprofit-matter",
   "metadata": {},
   "outputs": [
    {
     "data": {
      "image/png": "[encoded data removed]",
      "text/plain": [
       "<Figure size 432x288 with 2 Axes>"
      ]
     },
     "metadata": {
      "needs_background": "light"
     },
     "output_type": "display_data"
    }
   ],
   "source": [
    "M1 = confusion(model, df)"
   ]
  },
  {
   "cell_type": "markdown",
   "id": "outside-islam",
   "metadata": {},
   "source": [
    "<h2>F1 Score</h2>"
   ]
  },
  {
   "cell_type": "code",
   "execution_count": 26,
   "id": "encouraging-trading",
   "metadata": {},
   "outputs": [],
   "source": [
    "from sklearn.metrics import f1_score"
   ]
  },
  {
   "cell_type": "code",
   "execution_count": 27,
   "id": "christian-studio",
   "metadata": {},
   "outputs": [],
   "source": [
    "def get_f1(model, df):\n",
    "    return f1_score(df['Label'].values, model.predict(df.iloc[:,:-1]))"
   ]
  },
  {
   "cell_type": "code",
   "execution_count": 31,
   "id": "least-airfare",
   "metadata": {},
   "outputs": [
    {
     "data": {
      "text/plain": [
       "1.0"
      ]
     },
     "execution_count": 31,
     "metadata": {},
     "output_type": "execute_result"
    }
   ],
   "source": [
    "F1 = get_f1(model, df)\n",
    "F1"
   ]
  },
  {
   "cell_type": "code",
   "execution_count": 29,
   "id": "turned-april",
   "metadata": {},
   "outputs": [],
   "source": [
    "n = np.argmax([get_f1(estimator, df) for estimator in model.estimators_])"
   ]
  },
  {
   "cell_type": "code",
   "execution_count": 30,
   "id": "through-version",
   "metadata": {},
   "outputs": [
    {
     "data": {
      "text/plain": [
       "0.9933333333333334"
      ]
     },
     "execution_count": 30,
     "metadata": {},
     "output_type": "execute_result"
    }
   ],
   "source": [
    "get_f1(model.estimators_[n], df)"
   ]
  },
  {
   "cell_type": "markdown",
   "id": "valuable-israeli",
   "metadata": {},
   "source": [
    "<h2>Best Features</h2>"
   ]
  },
  {
   "cell_type": "code",
   "execution_count": 18,
   "id": "chicken-fraction",
   "metadata": {},
   "outputs": [],
   "source": [
    "from sklearn.inspection import permutation_importance"
   ]
  },
  {
   "cell_type": "code",
   "execution_count": 38,
   "id": "american-weather",
   "metadata": {},
   "outputs": [],
   "source": [
    "result = permutation_importance(model.estimators_[n], df.iloc[:,:-1], df['Label'], n_repeats=10,\n",
    "                                random_state=0)\n",
    "perm_sorted_idx = result.importances_mean.argsort()\n",
    "tree_importance_sorted_idx = np.argsort(model.feature_importances_)"
   ]
  },
  {
   "cell_type": "code",
   "execution_count": 39,
   "id": "greek-nebraska",
   "metadata": {},
   "outputs": [
    {
     "data": {
      "image/png": "[encoded data removed]",
      "text/plain": [
       "<Figure size 432x288 with 1 Axes>"
      ]
     },
     "metadata": {
      "needs_background": "light"
     },
     "output_type": "display_data"
    }
   ],
   "source": [
    "plt.boxplot(result.importances[perm_sorted_idx][-10:].T, vert=False, labels=df.iloc[:,:-1].columns[perm_sorted_idx][-10:]);"
   ]
  },
  {
   "cell_type": "markdown",
   "id": "mineral-river",
   "metadata": {},
   "source": [
    "<h2>Runtime Tests</h2>"
   ]
  },
  {
   "cell_type": "code",
   "execution_count": 34,
   "id": "occupational-austria",
   "metadata": {},
   "outputs": [
    {
     "data": {
      "text/html": [
       "<div>\n",
       "<style scoped>\n",
       "    .dataframe tbody tr th:only-of-type {\n",
       "        vertical-align: middle;\n",
       "    }\n",
       "\n",
       "    .dataframe tbody tr th {\n",
       "        vertical-align: top;\n",
       "    }\n",
       "\n",
       "    .dataframe thead th {\n",
       "        text-align: right;\n",
       "    }\n",
       "</style>\n",
       "<table border=\"1\" class=\"dataframe\">\n",
       "  <thead>\n",
       "    <tr style=\"text-align: right;\">\n",
       "      <th></th>\n",
       "      <th>GABRG2</th>\n",
       "      <th>CELF4</th>\n",
       "      <th>SRRM4</th>\n",
       "      <th>SLC1A3</th>\n",
       "      <th>ATP1A3</th>\n",
       "      <th>RBFOX3</th>\n",
       "      <th>GABRA4</th>\n",
       "      <th>NHSL1</th>\n",
       "      <th>GRAMD3</th>\n",
       "      <th>SEZ6L2</th>\n",
       "      <th>...</th>\n",
       "      <th>FERMT1</th>\n",
       "      <th>CSPG4</th>\n",
       "      <th>GJA1</th>\n",
       "      <th>LAMA1</th>\n",
       "      <th>YAP1</th>\n",
       "      <th>LINC00639.2</th>\n",
       "      <th>SMOC1</th>\n",
       "      <th>LINC00498</th>\n",
       "      <th>GFRA1</th>\n",
       "      <th>Label</th>\n",
       "    </tr>\n",
       "  </thead>\n",
       "  <tbody>\n",
       "    <tr>\n",
       "      <th>3</th>\n",
       "      <td>166.01084</td>\n",
       "      <td>26.159284</td>\n",
       "      <td>61.373704</td>\n",
       "      <td>0.0</td>\n",
       "      <td>30.183789</td>\n",
       "      <td>254.549955</td>\n",
       "      <td>446.720079</td>\n",
       "      <td>0.0</td>\n",
       "      <td>0.0</td>\n",
       "      <td>25.153158</td>\n",
       "      <td>...</td>\n",
       "      <td>0.0</td>\n",
       "      <td>0.0</td>\n",
       "      <td>0.0</td>\n",
       "      <td>0.0</td>\n",
       "      <td>0.0</td>\n",
       "      <td>0.0</td>\n",
       "      <td>1.006126</td>\n",
       "      <td>0.0</td>\n",
       "      <td>0.0</td>\n",
       "      <td>1</td>\n",
       "    </tr>\n",
       "  </tbody>\n",
       "</table>\n",
       "<p>1 rows × 609 columns</p>\n",
       "</div>"
      ],
      "text/plain": [
       "      GABRG2      CELF4      SRRM4  SLC1A3     ATP1A3      RBFOX3      GABRA4  \\\n",
       "3  166.01084  26.159284  61.373704     0.0  30.183789  254.549955  446.720079   \n",
       "\n",
       "   NHSL1  GRAMD3     SEZ6L2  ...  FERMT1  CSPG4  GJA1  LAMA1  YAP1  \\\n",
       "3    0.0     0.0  25.153158  ...     0.0    0.0   0.0    0.0   0.0   \n",
       "\n",
       "   LINC00639.2     SMOC1  LINC00498  GFRA1  Label  \n",
       "3          0.0  1.006126        0.0    0.0      1  \n",
       "\n",
       "[1 rows x 609 columns]"
      ]
     },
     "execution_count": 34,
     "metadata": {},
     "output_type": "execute_result"
    }
   ],
   "source": [
    "runtime1 = df.iloc[[3]]\n",
    "runtime1"
   ]
  },
  {
   "cell_type": "code",
   "execution_count": 35,
   "id": "correct-nashville",
   "metadata": {},
   "outputs": [
    {
     "data": {
      "text/plain": [
       "array([1])"
      ]
     },
     "execution_count": 35,
     "metadata": {},
     "output_type": "execute_result"
    }
   ],
   "source": [
    "model.predict(runtime1.iloc[:,:-1])"
   ]
  },
  {
   "cell_type": "code",
   "execution_count": 36,
   "id": "regulation-rogers",
   "metadata": {},
   "outputs": [
    {
     "data": {
      "text/html": [
       "<div>\n",
       "<style scoped>\n",
       "    .dataframe tbody tr th:only-of-type {\n",
       "        vertical-align: middle;\n",
       "    }\n",
       "\n",
       "    .dataframe tbody tr th {\n",
       "        vertical-align: top;\n",
       "    }\n",
       "\n",
       "    .dataframe thead th {\n",
       "        text-align: right;\n",
       "    }\n",
       "</style>\n",
       "<table border=\"1\" class=\"dataframe\">\n",
       "  <thead>\n",
       "    <tr style=\"text-align: right;\">\n",
       "      <th></th>\n",
       "      <th>GABRG2</th>\n",
       "      <th>CELF4</th>\n",
       "      <th>SRRM4</th>\n",
       "      <th>SLC1A3</th>\n",
       "      <th>ATP1A3</th>\n",
       "      <th>RBFOX3</th>\n",
       "      <th>GABRA4</th>\n",
       "      <th>NHSL1</th>\n",
       "      <th>GRAMD3</th>\n",
       "      <th>SEZ6L2</th>\n",
       "      <th>...</th>\n",
       "      <th>FERMT1</th>\n",
       "      <th>CSPG4</th>\n",
       "      <th>GJA1</th>\n",
       "      <th>LAMA1</th>\n",
       "      <th>YAP1</th>\n",
       "      <th>LINC00639.2</th>\n",
       "      <th>SMOC1</th>\n",
       "      <th>LINC00498</th>\n",
       "      <th>GFRA1</th>\n",
       "      <th>Label</th>\n",
       "    </tr>\n",
       "  </thead>\n",
       "  <tbody>\n",
       "    <tr>\n",
       "      <th>343</th>\n",
       "      <td>0.0</td>\n",
       "      <td>45.962403</td>\n",
       "      <td>0.999183</td>\n",
       "      <td>4165.592545</td>\n",
       "      <td>0.0</td>\n",
       "      <td>0.0</td>\n",
       "      <td>0.999183</td>\n",
       "      <td>1174.039636</td>\n",
       "      <td>58.951777</td>\n",
       "      <td>0.0</td>\n",
       "      <td>...</td>\n",
       "      <td>0.0</td>\n",
       "      <td>0.0</td>\n",
       "      <td>344.718021</td>\n",
       "      <td>0.0</td>\n",
       "      <td>259.787494</td>\n",
       "      <td>0.999183</td>\n",
       "      <td>0.0</td>\n",
       "      <td>12.989375</td>\n",
       "      <td>0.0</td>\n",
       "      <td>0</td>\n",
       "    </tr>\n",
       "  </tbody>\n",
       "</table>\n",
       "<p>1 rows × 609 columns</p>\n",
       "</div>"
      ],
      "text/plain": [
       "     GABRG2      CELF4     SRRM4       SLC1A3  ATP1A3  RBFOX3    GABRA4  \\\n",
       "343     0.0  45.962403  0.999183  4165.592545     0.0     0.0  0.999183   \n",
       "\n",
       "           NHSL1     GRAMD3  SEZ6L2  ...  FERMT1  CSPG4        GJA1  LAMA1  \\\n",
       "343  1174.039636  58.951777     0.0  ...     0.0    0.0  344.718021    0.0   \n",
       "\n",
       "           YAP1  LINC00639.2  SMOC1  LINC00498  GFRA1  Label  \n",
       "343  259.787494     0.999183    0.0  12.989375    0.0      0  \n",
       "\n",
       "[1 rows x 609 columns]"
      ]
     },
     "execution_count": 36,
     "metadata": {},
     "output_type": "execute_result"
    }
   ],
   "source": [
    "runtime2 = df.iloc[[343]]\n",
    "runtime2"
   ]
  },
  {
   "cell_type": "code",
   "execution_count": 37,
   "id": "empirical-hanging",
   "metadata": {},
   "outputs": [
    {
     "data": {
      "text/plain": [
       "array([0])"
      ]
     },
     "execution_count": 37,
     "metadata": {},
     "output_type": "execute_result"
    }
   ],
   "source": [
    "model.predict(runtime2.iloc[:,:-1])"
   ]
  }
 ],
 "metadata": {
  "kernelspec": {
   "display_name": "Python 3",
   "language": "python",
   "name": "python3"
  },
  "language_info": {
   "codemirror_mode": {
    "name": "ipython",
    "version": 3
   },
   "file_extension": ".py",
   "mimetype": "text/x-python",
   "name": "python",
   "nbconvert_exporter": "python",
   "pygments_lexer": "ipython3",
   "version": "3.8.2"
  }
 },
 "nbformat": 4,
 "nbformat_minor": 5
}
